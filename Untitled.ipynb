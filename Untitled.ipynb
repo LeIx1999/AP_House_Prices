{
 "cells": [
  {
   "cell_type": "markdown",
   "id": "a4a47218",
   "metadata": {},
   "source": [
    "# Sonstige Beteiligung Angewandte Programmierung\n",
    "### Jannis Niesen"
   ]
  },
  {
   "cell_type": "markdown",
   "id": "25f368e4",
   "metadata": {},
   "source": [
    "## Vorhersage von Wohnugspreisen"
   ]
  },
  {
   "cell_type": "markdown",
   "id": "f0b7ccb4",
   "metadata": {},
   "source": [
    "## Datenbeschaffung"
   ]
  },
  {
   "cell_type": "markdown",
   "id": "98ce8032",
   "metadata": {},
   "source": [
    "## Data Understanding und Data Preparation"
   ]
  },
  {
   "cell_type": "markdown",
   "id": "b79da0ba",
   "metadata": {},
   "source": [
    "## Modelling"
   ]
  },
  {
   "cell_type": "markdown",
   "id": "8641c466",
   "metadata": {},
   "source": [
    "## Evaluation"
   ]
  },
  {
   "cell_type": "code",
   "execution_count": null,
   "id": "1e51c906",
   "metadata": {},
   "outputs": [],
   "source": []
  }
 ],
 "metadata": {
  "kernelspec": {
   "display_name": "Python 3 (ipykernel)",
   "language": "python",
   "name": "python3"
  },
  "language_info": {
   "codemirror_mode": {
    "name": "ipython",
    "version": 3
   },
   "file_extension": ".py",
   "mimetype": "text/x-python",
   "name": "python",
   "nbconvert_exporter": "python",
   "pygments_lexer": "ipython3",
   "version": "3.10.0"
  }
 },
 "nbformat": 4,
 "nbformat_minor": 5
}
